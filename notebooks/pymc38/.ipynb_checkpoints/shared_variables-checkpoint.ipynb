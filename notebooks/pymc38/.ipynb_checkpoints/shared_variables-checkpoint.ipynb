{
 "cells": [
  {
   "cell_type": "markdown",
   "metadata": {},
   "source": [
    "# Adaptation of using shared variables "
   ]
  },
  {
   "cell_type": "markdown",
   "metadata": {},
   "source": [
    "* What is the data class?\n",
    "* How do you plot with Arviz and plot the graph structure in pymc3\n",
    "* How do you apply a model to multiple data sources\n",
    "* Predicting on unseen data"
   ]
  },
  {
   "cell_type": "code",
   "execution_count": 1,
   "metadata": {},
   "outputs": [
    {
     "name": "stdout",
     "output_type": "stream",
     "text": [
      "Running on PyMC3 v3.9.0\n"
     ]
    }
   ],
   "source": [
    "import arviz as az\n",
    "import matplotlib.pyplot as plt\n",
    "import numpy as np\n",
    "import pandas as pd\n",
    "import pymc3 as pm\n",
    "\n",
    "print(\"Running on PyMC3 v{}\".format(pm.__version__))"
   ]
  },
  {
   "cell_type": "code",
   "execution_count": 2,
   "metadata": {},
   "outputs": [],
   "source": [
    "%matplotlib inline\n",
    "%config InlineBackend.figure_format = 'retina'\n",
    "RANDOM_SEED = 8927\n",
    "np.random.seed(RANDOM_SEED)\n",
    "az.style.use('arviz-darkgrid')"
   ]
  },
  {
   "cell_type": "markdown",
   "metadata": {},
   "source": [
    "# The data class"
   ]
  },
  {
   "cell_type": "markdown",
   "metadata": {},
   "source": [
    "The [Data](https://docs.pymc.io/api/data.html) container class wraps the theano shared variable class and lets the model be aware of its inputs and outputs. This allows one to change the value of an observed variable to predict or refit on new data. All variables of this class must be declared inside a model context and specify a name for them.\n",
    "\n",
    "In the following example, this is demonstrated with fictional temperature observations."
   ]
  },
  {
   "cell_type": "code",
   "execution_count": 3,
   "metadata": {},
   "outputs": [
    {
     "data": {
      "text/html": [
       "<div>\n",
       "<style scoped>\n",
       "    .dataframe tbody tr th:only-of-type {\n",
       "        vertical-align: middle;\n",
       "    }\n",
       "\n",
       "    .dataframe tbody tr th {\n",
       "        vertical-align: top;\n",
       "    }\n",
       "\n",
       "    .dataframe thead th {\n",
       "        text-align: right;\n",
       "    }\n",
       "</style>\n",
       "<table border=\"1\" class=\"dataframe\">\n",
       "  <thead>\n",
       "    <tr style=\"text-align: right;\">\n",
       "      <th></th>\n",
       "      <th>Dublin</th>\n",
       "      <th>San Marino</th>\n",
       "      <th>Paris</th>\n",
       "    </tr>\n",
       "    <tr>\n",
       "      <th>date</th>\n",
       "      <th></th>\n",
       "      <th></th>\n",
       "      <th></th>\n",
       "    </tr>\n",
       "  </thead>\n",
       "  <tbody>\n",
       "    <tr>\n",
       "      <th>2020-05-01</th>\n",
       "      <td>14.708568</td>\n",
       "      <td>18.905539</td>\n",
       "      <td>15.230894</td>\n",
       "    </tr>\n",
       "    <tr>\n",
       "      <th>2020-05-02</th>\n",
       "      <td>13.729669</td>\n",
       "      <td>17.359776</td>\n",
       "      <td>16.461333</td>\n",
       "    </tr>\n",
       "    <tr>\n",
       "      <th>2020-05-03</th>\n",
       "      <td>15.919799</td>\n",
       "      <td>17.766166</td>\n",
       "      <td>15.369512</td>\n",
       "    </tr>\n",
       "    <tr>\n",
       "      <th>2020-05-04</th>\n",
       "      <td>17.294473</td>\n",
       "      <td>17.685680</td>\n",
       "      <td>14.724499</td>\n",
       "    </tr>\n",
       "    <tr>\n",
       "      <th>2020-05-05</th>\n",
       "      <td>14.661021</td>\n",
       "      <td>18.648179</td>\n",
       "      <td>17.882056</td>\n",
       "    </tr>\n",
       "  </tbody>\n",
       "</table>\n",
       "</div>"
      ],
      "text/plain": [
       "               Dublin  San Marino      Paris\n",
       "date                                        \n",
       "2020-05-01  14.708568   18.905539  15.230894\n",
       "2020-05-02  13.729669   17.359776  16.461333\n",
       "2020-05-03  15.919799   17.766166  15.369512\n",
       "2020-05-04  17.294473   17.685680  14.724499\n",
       "2020-05-05  14.661021   18.648179  17.882056"
      ]
     },
     "execution_count": 3,
     "metadata": {},
     "output_type": "execute_result"
    }
   ],
   "source": [
    "\n",
    "df_data = pd.DataFrame(columns=[\"date\"]).set_index(\"date\")\n",
    "dates = pd.date_range(start=\"2020-05-01\", end=\"2020-05-20\")\n",
    "\n",
    "for city, mu in {'Dublin': 15, 'San Marino': 18, 'Paris':16}.items():\n",
    "    df_data[city] = np.random.normal(loc=mu, size=len(dates))\n",
    "\n",
    "df_data.index = dates\n",
    "df_data.index.name = \"date\"\n",
    "df_data.head()"
   ]
  },
  {
   "cell_type": "markdown",
   "metadata": {},
   "source": [
    "PyMC3 can also keep track of the dimensions (like dates or cities) and coordinates (such as the actual date times or city names) of multi-dimensional data. That way, when wraping your data around the Data container when building your model, you can specify the dimension names and coordinates of random variables, instead of specifying the shapes of those random variables as numbers.\n",
    "\n",
    "More generally, there are two ways to specify new dimensions and their coordinates: - Entering the dimensions in the dims kwarg of a pm.Data variable with a pandas Series or DataFrame. The name of the index and columns will be remembered as the dimensions, and PyMC3 will infer that the values of the given columns must be the coordinates. - Using the new coords argument to pm.Model to set the coordinates explicitly.\n",
    "\n",
    "For more explanation about dimensions, coordinates and their big benefits, we encourage you to take a look at the [ArviZ quickstart].(https://arviz-devs.github.io/arviz/getting_started/Introduction.html)\n",
    "\n",
    "This is a lot of explanation – let’s see how it’s done! We will use a hierarchical model: it assumes a mean temperature for the European continent and models each city relative to the continent mean:"
   ]
  },
  {
   "cell_type": "code",
   "execution_count": 4,
   "metadata": {},
   "outputs": [],
   "source": [
    "# The data has two dimensions: date and city\n",
    "coords = {\n",
    "    \"date\": df_data.index,\n",
    "    \"city\": df_data.columns\n",
    "}"
   ]
  },
  {
   "cell_type": "code",
   "execution_count": 20,
   "metadata": {},
   "outputs": [
    {
     "name": "stderr",
     "output_type": "stream",
     "text": [
      "Auto-assigning NUTS sampler...\n",
      "Initializing NUTS using jitter+adapt_diag...\n",
      "Multiprocess sampling (2 chains in 2 jobs)\n",
      "NUTS: [city_offset, europe_mean_temp]\n"
     ]
    },
    {
     "data": {
      "text/html": [
       "\n",
       "    <div>\n",
       "        <style>\n",
       "            /* Turns off some styling */\n",
       "            progress {\n",
       "                /* gets rid of default border in Firefox and Opera. */\n",
       "                border: none;\n",
       "                /* Needs to be in here for Safari polyfill so background images work as expected. */\n",
       "                background-size: auto;\n",
       "            }\n",
       "            .progress-bar-interrupted, .progress-bar-interrupted::-webkit-progress-bar {\n",
       "                background: #F44336;\n",
       "            }\n",
       "        </style>\n",
       "      <progress value='8000' class='' max='8000' style='width:300px; height:20px; vertical-align: middle;'></progress>\n",
       "      100.00% [8000/8000 00:51<00:00 Sampling 2 chains, 0 divergences]\n",
       "    </div>\n",
       "    "
      ],
      "text/plain": [
       "<IPython.core.display.HTML object>"
      ]
     },
     "metadata": {},
     "output_type": "display_data"
    },
    {
     "name": "stderr",
     "output_type": "stream",
     "text": [
      "Sampling 2 chains for 2_000 tune and 2_000 draw iterations (4_000 + 4_000 draws total) took 69 seconds.\n",
      "The number of effective samples is smaller than 10% for some parameters.\n"
     ]
    }
   ],
   "source": [
    "with pm.Model(coords=coords) as model:\n",
    "    europe_mean = pm.Normal(\"europe_mean_temp\", mu=15.0, sd=3.0)\n",
    "    city_offset = pm.Normal(\"city_offset\", mu=0.0, sd=3.0, dims=\"city\")\n",
    "    city_temperature = pm.Deterministic(\n",
    "        \"city_temperature\", europe_mean + city_offset, dims=\"city\"\n",
    "    )\n",
    "\n",
    "    data = pm.Data(\"data\", df_data, dims=(\"date\", \"city\"))\n",
    "    _ = pm.Normal(\"likelihood\", mu=city_temperature, sd=0.5, observed=data)\n",
    "\n",
    "    idata = pm.sample(\n",
    "        2000,\n",
    "        tune=2000,\n",
    "        target_accept=0.85,\n",
    "        return_inferencedata=True,\n",
    "        random_seed=RANDOM_SEED,\n",
    "    )"
   ]
  },
  {
   "cell_type": "code",
   "execution_count": 22,
   "metadata": {},
   "outputs": [
    {
     "data": {
      "text/plain": [
       "{'date': DatetimeIndex(['2020-05-01', '2020-05-02', '2020-05-03', '2020-05-04',\n",
       "                '2020-05-05', '2020-05-06', '2020-05-07', '2020-05-08',\n",
       "                '2020-05-09', '2020-05-10', '2020-05-11', '2020-05-12',\n",
       "                '2020-05-13', '2020-05-14', '2020-05-15', '2020-05-16',\n",
       "                '2020-05-17', '2020-05-18', '2020-05-19', '2020-05-20'],\n",
       "               dtype='datetime64[ns]', name='date', freq='D'),\n",
       " 'city': Index(['Dublin', 'San Marino', 'Paris'], dtype='object')}"
      ]
     },
     "execution_count": 22,
     "metadata": {},
     "output_type": "execute_result"
    }
   ],
   "source": [
    "# Did the model remember our coords?\n",
    "model.coords"
   ]
  },
  {
   "cell_type": "code",
   "execution_count": 7,
   "metadata": {},
   "outputs": [
    {
     "data": {
      "text/plain": [
       "Coordinates:\n",
       "  * chain    (chain) int64 0 1\n",
       "  * draw     (draw) int64 0 1 2 3 4 5 6 7 ... 1993 1994 1995 1996 1997 1998 1999\n",
       "  * city     (city) object 'Dublin' 'San Marino' 'Paris'"
      ]
     },
     "execution_count": 7,
     "metadata": {},
     "output_type": "execute_result"
    }
   ],
   "source": [
    "idata.posterior.coords"
   ]
  },
  {
   "cell_type": "markdown",
   "metadata": {},
   "source": [
    "We can get the data container variable from the model using:\n",
    "\n"
   ]
  },
  {
   "cell_type": "code",
   "execution_count": 23,
   "metadata": {},
   "outputs": [
    {
     "data": {
      "text/plain": [
       "array([[14.70856787, 18.90553869, 15.23089386],\n",
       "       [13.72966919, 17.3597762 , 16.46133259],\n",
       "       [15.91979879, 17.76616615, 15.36951161],\n",
       "       [17.29447325, 17.6856797 , 14.72449876],\n",
       "       [14.661021  , 18.6481792 , 17.88205622],\n",
       "       [13.62235193, 18.1174869 , 17.93472161],\n",
       "       [17.17794384, 18.40834446, 13.95283813],\n",
       "       [12.86745876, 17.71733043, 15.54609181],\n",
       "       [15.45146367, 17.37483326, 17.79029219],\n",
       "       [15.1294516 , 18.6186118 , 16.27692083],\n",
       "       [14.67051385, 17.52220247, 16.02126023],\n",
       "       [14.6102896 , 17.81642544, 14.38041368],\n",
       "       [16.96706129, 17.31780039, 15.86717085],\n",
       "       [15.78099003, 18.38226964, 16.43610936],\n",
       "       [15.06009008, 17.32634686, 15.39619995],\n",
       "       [14.93950003, 17.6323248 , 15.2415048 ],\n",
       "       [14.64521987, 18.74261167, 15.70689049],\n",
       "       [15.673507  , 17.90925701, 15.72393238],\n",
       "       [15.08672537, 17.85329919, 16.14461565],\n",
       "       [15.20135155, 16.90967182, 16.0285069 ]])"
      ]
     },
     "execution_count": 23,
     "metadata": {},
     "output_type": "execute_result"
    }
   ],
   "source": [
    "model[\"data\"].get_value()"
   ]
  },
  {
   "cell_type": "markdown",
   "metadata": {},
   "source": [
    "Note that we used a theano SharedVariable method to get the value of the variable. This is because our variable is actually a SharedVariable.\n"
   ]
  },
  {
   "cell_type": "code",
   "execution_count": 24,
   "metadata": {},
   "outputs": [
    {
     "data": {
      "text/plain": [
       "theano.tensor.sharedvar.TensorSharedVariable"
      ]
     },
     "execution_count": 24,
     "metadata": {},
     "output_type": "execute_result"
    }
   ],
   "source": [
    "type(data)"
   ]
  },
  {
   "cell_type": "code",
   "execution_count": null,
   "metadata": {},
   "outputs": [],
   "source": []
  },
  {
   "cell_type": "code",
   "execution_count": 25,
   "metadata": {},
   "outputs": [
    {
     "data": {
      "image/svg+xml": [
       "<?xml version=\"1.0\" encoding=\"UTF-8\" standalone=\"no\"?>\n",
       "<!DOCTYPE svg PUBLIC \"-//W3C//DTD SVG 1.1//EN\"\n",
       " \"http://www.w3.org/Graphics/SVG/1.1/DTD/svg11.dtd\">\n",
       "<!-- Generated by graphviz version 2.42.3 (20191010.1750)\n",
       " -->\n",
       "<!-- Title: %3 Pages: 1 -->\n",
       "<svg width=\"328pt\" height=\"421pt\"\n",
       " viewBox=\"0.00 0.00 328.38 421.42\" xmlns=\"http://www.w3.org/2000/svg\" xmlns:xlink=\"http://www.w3.org/1999/xlink\">\n",
       "<g id=\"graph0\" class=\"graph\" transform=\"scale(1 1) rotate(0) translate(4 417.42)\">\n",
       "<title>%3</title>\n",
       "<polygon fill=\"white\" stroke=\"transparent\" points=\"-4,4 -4,-417.42 324.38,-417.42 324.38,4 -4,4\"/>\n",
       "<g id=\"clust1\" class=\"cluster\">\n",
       "<title>cluster3</title>\n",
       "<path fill=\"none\" stroke=\"black\" d=\"M198.38,-210.71C198.38,-210.71 300.38,-210.71 300.38,-210.71 306.38,-210.71 312.38,-216.71 312.38,-222.71 312.38,-222.71 312.38,-393.42 312.38,-393.42 312.38,-399.42 306.38,-405.42 300.38,-405.42 300.38,-405.42 198.38,-405.42 198.38,-405.42 192.38,-405.42 186.38,-399.42 186.38,-393.42 186.38,-393.42 186.38,-222.71 186.38,-222.71 186.38,-216.71 192.38,-210.71 198.38,-210.71\"/>\n",
       "<text text-anchor=\"middle\" x=\"300.88\" y=\"-217.51\" font-family=\"Times,serif\" font-size=\"14.00\">3</text>\n",
       "</g>\n",
       "<g id=\"clust2\" class=\"cluster\">\n",
       "<title>cluster20 x 3</title>\n",
       "<path fill=\"none\" stroke=\"black\" d=\"M202.38,-8C202.38,-8 296.38,-8 296.38,-8 302.38,-8 308.38,-14 308.38,-20 308.38,-20 308.38,-190.71 308.38,-190.71 308.38,-196.71 302.38,-202.71 296.38,-202.71 296.38,-202.71 202.38,-202.71 202.38,-202.71 196.38,-202.71 190.38,-196.71 190.38,-190.71 190.38,-190.71 190.38,-20 190.38,-20 190.38,-14 196.38,-8 202.38,-8\"/>\n",
       "<text text-anchor=\"middle\" x=\"282.88\" y=\"-14.8\" font-family=\"Times,serif\" font-size=\"14.00\">20 x 3</text>\n",
       "</g>\n",
       "<!-- europe_mean_temp -->\n",
       "<g id=\"node1\" class=\"node\">\n",
       "<title>europe_mean_temp</title>\n",
       "<ellipse fill=\"none\" stroke=\"black\" cx=\"89.38\" cy=\"-362.07\" rx=\"89.26\" ry=\"35.21\"/>\n",
       "<text text-anchor=\"middle\" x=\"89.38\" y=\"-371.87\" font-family=\"Times,serif\" font-size=\"14.00\">europe_mean_temp</text>\n",
       "<text text-anchor=\"middle\" x=\"89.38\" y=\"-357.87\" font-family=\"Times,serif\" font-size=\"14.00\">~</text>\n",
       "<text text-anchor=\"middle\" x=\"89.38\" y=\"-343.87\" font-family=\"Times,serif\" font-size=\"14.00\">Normal</text>\n",
       "</g>\n",
       "<!-- city_temperature -->\n",
       "<g id=\"node2\" class=\"node\">\n",
       "<title>city_temperature</title>\n",
       "<polygon fill=\"none\" stroke=\"black\" points=\"304.72,-290.71 194.04,-290.71 194.04,-240.71 304.72,-240.71 304.72,-290.71\"/>\n",
       "<text text-anchor=\"middle\" x=\"249.38\" y=\"-275.51\" font-family=\"Times,serif\" font-size=\"14.00\">city_temperature</text>\n",
       "<text text-anchor=\"middle\" x=\"249.38\" y=\"-261.51\" font-family=\"Times,serif\" font-size=\"14.00\">~</text>\n",
       "<text text-anchor=\"middle\" x=\"249.38\" y=\"-247.51\" font-family=\"Times,serif\" font-size=\"14.00\">Deterministic</text>\n",
       "</g>\n",
       "<!-- europe_mean_temp&#45;&gt;city_temperature -->\n",
       "<g id=\"edge2\" class=\"edge\">\n",
       "<title>europe_mean_temp&#45;&gt;city_temperature</title>\n",
       "<path fill=\"none\" stroke=\"black\" d=\"M138.25,-332.24C157.78,-320.73 180.23,-307.49 199.83,-295.93\"/>\n",
       "<polygon fill=\"black\" stroke=\"black\" points=\"201.77,-298.85 208.61,-290.76 198.21,-292.82 201.77,-298.85\"/>\n",
       "</g>\n",
       "<!-- likelihood -->\n",
       "<g id=\"node4\" class=\"node\">\n",
       "<title>likelihood</title>\n",
       "<ellipse fill=\"lightgrey\" stroke=\"black\" cx=\"249.38\" cy=\"-159.36\" rx=\"51.42\" ry=\"35.21\"/>\n",
       "<text text-anchor=\"middle\" x=\"249.38\" y=\"-169.16\" font-family=\"Times,serif\" font-size=\"14.00\">likelihood</text>\n",
       "<text text-anchor=\"middle\" x=\"249.38\" y=\"-155.16\" font-family=\"Times,serif\" font-size=\"14.00\">~</text>\n",
       "<text text-anchor=\"middle\" x=\"249.38\" y=\"-141.16\" font-family=\"Times,serif\" font-size=\"14.00\">Normal</text>\n",
       "</g>\n",
       "<!-- city_temperature&#45;&gt;likelihood -->\n",
       "<g id=\"edge4\" class=\"edge\">\n",
       "<title>city_temperature&#45;&gt;likelihood</title>\n",
       "<path fill=\"none\" stroke=\"black\" d=\"M249.38,-240.51C249.38,-229.97 249.38,-217.27 249.38,-205.12\"/>\n",
       "<polygon fill=\"black\" stroke=\"black\" points=\"252.88,-205.1 249.38,-195.1 245.88,-205.1 252.88,-205.1\"/>\n",
       "</g>\n",
       "<!-- city_offset -->\n",
       "<g id=\"node3\" class=\"node\">\n",
       "<title>city_offset</title>\n",
       "<ellipse fill=\"none\" stroke=\"black\" cx=\"250.38\" cy=\"-362.07\" rx=\"53.45\" ry=\"35.21\"/>\n",
       "<text text-anchor=\"middle\" x=\"250.38\" y=\"-371.87\" font-family=\"Times,serif\" font-size=\"14.00\">city_offset</text>\n",
       "<text text-anchor=\"middle\" x=\"250.38\" y=\"-357.87\" font-family=\"Times,serif\" font-size=\"14.00\">~</text>\n",
       "<text text-anchor=\"middle\" x=\"250.38\" y=\"-343.87\" font-family=\"Times,serif\" font-size=\"14.00\">Normal</text>\n",
       "</g>\n",
       "<!-- city_offset&#45;&gt;city_temperature -->\n",
       "<g id=\"edge1\" class=\"edge\">\n",
       "<title>city_offset&#45;&gt;city_temperature</title>\n",
       "<path fill=\"none\" stroke=\"black\" d=\"M250.01,-326.47C249.92,-318.18 249.83,-309.34 249.74,-301.07\"/>\n",
       "<polygon fill=\"black\" stroke=\"black\" points=\"253.24,-300.94 249.64,-290.98 246.24,-301.02 253.24,-300.94\"/>\n",
       "</g>\n",
       "<!-- data -->\n",
       "<g id=\"node5\" class=\"node\">\n",
       "<title>data</title>\n",
       "<path fill=\"lightgrey\" stroke=\"black\" d=\"M264.38,-88C264.38,-88 234.38,-88 234.38,-88 228.38,-88 222.38,-82 222.38,-76 222.38,-76 222.38,-50 222.38,-50 222.38,-44 228.38,-38 234.38,-38 234.38,-38 264.38,-38 264.38,-38 270.38,-38 276.38,-44 276.38,-50 276.38,-50 276.38,-76 276.38,-76 276.38,-82 270.38,-88 264.38,-88\"/>\n",
       "<text text-anchor=\"middle\" x=\"249.38\" y=\"-72.8\" font-family=\"Times,serif\" font-size=\"14.00\">data</text>\n",
       "<text text-anchor=\"middle\" x=\"249.38\" y=\"-58.8\" font-family=\"Times,serif\" font-size=\"14.00\">~</text>\n",
       "<text text-anchor=\"middle\" x=\"249.38\" y=\"-44.8\" font-family=\"Times,serif\" font-size=\"14.00\">Data</text>\n",
       "</g>\n",
       "<!-- likelihood&#45;&gt;data -->\n",
       "<g id=\"edge3\" class=\"edge\">\n",
       "<title>likelihood&#45;&gt;data</title>\n",
       "<path fill=\"none\" stroke=\"black\" d=\"M249.38,-123.76C249.38,-115.47 249.38,-106.63 249.38,-98.36\"/>\n",
       "<polygon fill=\"black\" stroke=\"black\" points=\"252.88,-98.27 249.38,-88.27 245.88,-98.27 252.88,-98.27\"/>\n",
       "</g>\n",
       "</g>\n",
       "</svg>\n"
      ],
      "text/plain": [
       "<graphviz.dot.Digraph at 0x7f90ed51f4c0>"
      ]
     },
     "execution_count": 25,
     "metadata": {},
     "output_type": "execute_result"
    }
   ],
   "source": [
    "pm.model_to_graphviz(model)"
   ]
  },
  {
   "cell_type": "markdown",
   "metadata": {},
   "source": [
    "The methods and functions related to the Data container class are:\n",
    "\n",
    "* data_container.get_value (method inherited from the theano SharedVariable): gets the value associated with the data_container.\n",
    "* data_container.set_value (method inherited from the theano SharedVariable): sets the value associated with the data_container.\n",
    "* pm.set_data: PyMC3 function that sets the value associated with each Data container variable indicated in the dictionary new_data with it corresponding new value."
   ]
  },
  {
   "cell_type": "code",
   "execution_count": 13,
   "metadata": {},
   "outputs": [
    {
     "name": "stdout",
     "output_type": "stream",
     "text": [
      "Help on function set_data in module pymc3.model:\n",
      "\n",
      "set_data(new_data, model=None)\n",
      "    Sets the value of one or more data container variables.\n",
      "    \n",
      "    Parameters\n",
      "    ----------\n",
      "    new_data: dict\n",
      "        New values for the data containers. The keys of the dictionary are\n",
      "        the variables' names in the model and the values are the objects\n",
      "        with which to update.\n",
      "    model: Model (optional if in `with` context)\n",
      "    \n",
      "    Examples\n",
      "    --------\n",
      "    \n",
      "    .. code:: ipython\n",
      "    \n",
      "        >>> import pymc3 as pm\n",
      "        >>> with pm.Model() as model:\n",
      "        ...     x = pm.Data('x', [1., 2., 3.])\n",
      "        ...     y = pm.Data('y', [1., 2., 3.])\n",
      "        ...     beta = pm.Normal('beta', 0, 1)\n",
      "        ...     obs = pm.Normal('obs', x * beta, 1, observed=y)\n",
      "        ...     trace = pm.sample(1000, tune=1000)\n",
      "    \n",
      "    Set the value of `x` to predict on new data.\n",
      "    \n",
      "    .. code:: ipython\n",
      "    \n",
      "        >>> with model:\n",
      "        ...     pm.set_data({'x': [5., 6., 9.]})\n",
      "        ...     y_test = pm.sample_posterior_predictive(trace)\n",
      "        >>> y_test['obs'].mean(axis=0)\n",
      "        array([4.6088569 , 5.54128318, 8.32953844])\n",
      "\n"
     ]
    }
   ],
   "source": [
    "help(pm.set_data)\n"
   ]
  },
  {
   "cell_type": "markdown",
   "metadata": {},
   "source": [
    "We can use Data container variables in PyMC3 to fit the same model to several datasets without the need to recreate the model each time (which can be time consuming if the number of datasets is large):\n",
    "\n"
   ]
  },
  {
   "cell_type": "code",
   "execution_count": 27,
   "metadata": {},
   "outputs": [
    {
     "name": "stderr",
     "output_type": "stream",
     "text": [
      "Auto-assigning NUTS sampler...\n",
      "Initializing NUTS using jitter+adapt_diag...\n",
      "Multiprocess sampling (2 chains in 2 jobs)\n",
      "NUTS: [mu]\n"
     ]
    },
    {
     "ename": "KeyboardInterrupt",
     "evalue": "",
     "output_type": "error",
     "traceback": [
      "\u001b[0;31m---------------------------------------------------------------------------\u001b[0m",
      "\u001b[0;31mKeyboardInterrupt\u001b[0m                         Traceback (most recent call last)",
      "\u001b[0;32m<ipython-input-27-b30e723bbf28>\u001b[0m in \u001b[0;36m<module>\u001b[0;34m\u001b[0m\n\u001b[1;32m     14\u001b[0m         \u001b[0;31m# Switch out the observed dataset\u001b[0m\u001b[0;34m\u001b[0m\u001b[0;34m\u001b[0m\u001b[0;34m\u001b[0m\u001b[0m\n\u001b[1;32m     15\u001b[0m         \u001b[0mpm\u001b[0m\u001b[0;34m.\u001b[0m\u001b[0mset_data\u001b[0m\u001b[0;34m(\u001b[0m\u001b[0;34m{\u001b[0m\u001b[0;34m\"data\"\u001b[0m\u001b[0;34m:\u001b[0m \u001b[0mdata_vals\u001b[0m\u001b[0;34m}\u001b[0m\u001b[0;34m)\u001b[0m\u001b[0;34m\u001b[0m\u001b[0;34m\u001b[0m\u001b[0m\n\u001b[0;32m---> 16\u001b[0;31m         \u001b[0mtraces\u001b[0m\u001b[0;34m.\u001b[0m\u001b[0mappend\u001b[0m\u001b[0;34m(\u001b[0m\u001b[0mpm\u001b[0m\u001b[0;34m.\u001b[0m\u001b[0msample\u001b[0m\u001b[0;34m(\u001b[0m\u001b[0mreturn_inferencedata\u001b[0m\u001b[0;34m=\u001b[0m\u001b[0;32mFalse\u001b[0m\u001b[0;34m)\u001b[0m\u001b[0;34m)\u001b[0m\u001b[0;34m\u001b[0m\u001b[0;34m\u001b[0m\u001b[0m\n\u001b[0m",
      "\u001b[0;32m~/miniconda3/envs/pymc3/lib/python3.8/site-packages/pymc3/sampling.py\u001b[0m in \u001b[0;36msample\u001b[0;34m(draws, step, init, n_init, start, trace, chain_idx, chains, cores, tune, progressbar, model, random_seed, discard_tuned_samples, compute_convergence_checks, callback, return_inferencedata, idata_kwargs, **kwargs)\u001b[0m\n\u001b[1;32m    520\u001b[0m         \u001b[0m_print_step_hierarchy\u001b[0m\u001b[0;34m(\u001b[0m\u001b[0mstep\u001b[0m\u001b[0;34m)\u001b[0m\u001b[0;34m\u001b[0m\u001b[0;34m\u001b[0m\u001b[0m\n\u001b[1;32m    521\u001b[0m         \u001b[0;32mtry\u001b[0m\u001b[0;34m:\u001b[0m\u001b[0;34m\u001b[0m\u001b[0;34m\u001b[0m\u001b[0m\n\u001b[0;32m--> 522\u001b[0;31m             \u001b[0mtrace\u001b[0m \u001b[0;34m=\u001b[0m \u001b[0m_mp_sample\u001b[0m\u001b[0;34m(\u001b[0m\u001b[0;34m**\u001b[0m\u001b[0msample_args\u001b[0m\u001b[0;34m)\u001b[0m\u001b[0;34m\u001b[0m\u001b[0;34m\u001b[0m\u001b[0m\n\u001b[0m\u001b[1;32m    523\u001b[0m         \u001b[0;32mexcept\u001b[0m \u001b[0mpickle\u001b[0m\u001b[0;34m.\u001b[0m\u001b[0mPickleError\u001b[0m\u001b[0;34m:\u001b[0m\u001b[0;34m\u001b[0m\u001b[0;34m\u001b[0m\u001b[0m\n\u001b[1;32m    524\u001b[0m             \u001b[0m_log\u001b[0m\u001b[0;34m.\u001b[0m\u001b[0mwarning\u001b[0m\u001b[0;34m(\u001b[0m\u001b[0;34m\"Could not pickle model, sampling singlethreaded.\"\u001b[0m\u001b[0;34m)\u001b[0m\u001b[0;34m\u001b[0m\u001b[0;34m\u001b[0m\u001b[0m\n",
      "\u001b[0;32m~/miniconda3/envs/pymc3/lib/python3.8/site-packages/pymc3/sampling.py\u001b[0m in \u001b[0;36m_mp_sample\u001b[0;34m(draws, tune, step, chains, cores, chain, random_seed, start, progressbar, trace, model, callback, **kwargs)\u001b[0m\n\u001b[1;32m   1409\u001b[0m         \u001b[0mtraces\u001b[0m\u001b[0;34m.\u001b[0m\u001b[0mappend\u001b[0m\u001b[0;34m(\u001b[0m\u001b[0mstrace\u001b[0m\u001b[0;34m)\u001b[0m\u001b[0;34m\u001b[0m\u001b[0;34m\u001b[0m\u001b[0m\n\u001b[1;32m   1410\u001b[0m \u001b[0;34m\u001b[0m\u001b[0m\n\u001b[0;32m-> 1411\u001b[0;31m     sampler = ps.ParallelSampler(\n\u001b[0m\u001b[1;32m   1412\u001b[0m         \u001b[0mdraws\u001b[0m\u001b[0;34m,\u001b[0m \u001b[0mtune\u001b[0m\u001b[0;34m,\u001b[0m \u001b[0mchains\u001b[0m\u001b[0;34m,\u001b[0m \u001b[0mcores\u001b[0m\u001b[0;34m,\u001b[0m \u001b[0mrandom_seed\u001b[0m\u001b[0;34m,\u001b[0m \u001b[0mstart\u001b[0m\u001b[0;34m,\u001b[0m \u001b[0mstep\u001b[0m\u001b[0;34m,\u001b[0m \u001b[0mchain\u001b[0m\u001b[0;34m,\u001b[0m \u001b[0mprogressbar\u001b[0m\u001b[0;34m\u001b[0m\u001b[0;34m\u001b[0m\u001b[0m\n\u001b[1;32m   1413\u001b[0m     )\n",
      "\u001b[0;32m~/miniconda3/envs/pymc3/lib/python3.8/site-packages/pymc3/parallel_sampling.py\u001b[0m in \u001b[0;36m__init__\u001b[0;34m(self, draws, tune, chains, cores, seeds, start_points, step_method, start_chain_num, progressbar)\u001b[0m\n\u001b[1;32m    368\u001b[0m             \u001b[0;32mraise\u001b[0m \u001b[0mValueError\u001b[0m\u001b[0;34m(\u001b[0m\u001b[0;34m\"Number of seeds and start_points must be %s.\"\u001b[0m \u001b[0;34m%\u001b[0m \u001b[0mchains\u001b[0m\u001b[0;34m)\u001b[0m\u001b[0;34m\u001b[0m\u001b[0;34m\u001b[0m\u001b[0m\n\u001b[1;32m    369\u001b[0m \u001b[0;34m\u001b[0m\u001b[0m\n\u001b[0;32m--> 370\u001b[0;31m         self._samplers = [\n\u001b[0m\u001b[1;32m    371\u001b[0m             ProcessAdapter(\n\u001b[1;32m    372\u001b[0m                 \u001b[0mdraws\u001b[0m\u001b[0;34m,\u001b[0m \u001b[0mtune\u001b[0m\u001b[0;34m,\u001b[0m \u001b[0mstep_method\u001b[0m\u001b[0;34m,\u001b[0m \u001b[0mchain\u001b[0m \u001b[0;34m+\u001b[0m \u001b[0mstart_chain_num\u001b[0m\u001b[0;34m,\u001b[0m \u001b[0mseed\u001b[0m\u001b[0;34m,\u001b[0m \u001b[0mstart\u001b[0m\u001b[0;34m\u001b[0m\u001b[0;34m\u001b[0m\u001b[0m\n",
      "\u001b[0;32m~/miniconda3/envs/pymc3/lib/python3.8/site-packages/pymc3/parallel_sampling.py\u001b[0m in \u001b[0;36m<listcomp>\u001b[0;34m(.0)\u001b[0m\n\u001b[1;32m    369\u001b[0m \u001b[0;34m\u001b[0m\u001b[0m\n\u001b[1;32m    370\u001b[0m         self._samplers = [\n\u001b[0;32m--> 371\u001b[0;31m             ProcessAdapter(\n\u001b[0m\u001b[1;32m    372\u001b[0m                 \u001b[0mdraws\u001b[0m\u001b[0;34m,\u001b[0m \u001b[0mtune\u001b[0m\u001b[0;34m,\u001b[0m \u001b[0mstep_method\u001b[0m\u001b[0;34m,\u001b[0m \u001b[0mchain\u001b[0m \u001b[0;34m+\u001b[0m \u001b[0mstart_chain_num\u001b[0m\u001b[0;34m,\u001b[0m \u001b[0mseed\u001b[0m\u001b[0;34m,\u001b[0m \u001b[0mstart\u001b[0m\u001b[0;34m\u001b[0m\u001b[0;34m\u001b[0m\u001b[0m\n\u001b[1;32m    373\u001b[0m             )\n",
      "\u001b[0;32m~/miniconda3/envs/pymc3/lib/python3.8/site-packages/pymc3/parallel_sampling.py\u001b[0m in \u001b[0;36m__init__\u001b[0;34m(self, draws, tune, step_method, chain, seed, start)\u001b[0m\n\u001b[1;32m    257\u001b[0m         )\n\u001b[1;32m    258\u001b[0m         \u001b[0;32mtry\u001b[0m\u001b[0;34m:\u001b[0m\u001b[0;34m\u001b[0m\u001b[0;34m\u001b[0m\u001b[0m\n\u001b[0;32m--> 259\u001b[0;31m             \u001b[0mself\u001b[0m\u001b[0;34m.\u001b[0m\u001b[0m_process\u001b[0m\u001b[0;34m.\u001b[0m\u001b[0mstart\u001b[0m\u001b[0;34m(\u001b[0m\u001b[0;34m)\u001b[0m\u001b[0;34m\u001b[0m\u001b[0;34m\u001b[0m\u001b[0m\n\u001b[0m\u001b[1;32m    260\u001b[0m         \u001b[0;32mexcept\u001b[0m \u001b[0mIOError\u001b[0m \u001b[0;32mas\u001b[0m \u001b[0me\u001b[0m\u001b[0;34m:\u001b[0m\u001b[0;34m\u001b[0m\u001b[0;34m\u001b[0m\u001b[0m\n\u001b[1;32m    261\u001b[0m             \u001b[0;31m# Something may have gone wrong during the fork / spawn\u001b[0m\u001b[0;34m\u001b[0m\u001b[0;34m\u001b[0m\u001b[0;34m\u001b[0m\u001b[0m\n",
      "\u001b[0;32m~/miniconda3/envs/pymc3/lib/python3.8/multiprocessing/process.py\u001b[0m in \u001b[0;36mstart\u001b[0;34m(self)\u001b[0m\n\u001b[1;32m    119\u001b[0m                \u001b[0;34m'daemonic processes are not allowed to have children'\u001b[0m\u001b[0;34m\u001b[0m\u001b[0;34m\u001b[0m\u001b[0m\n\u001b[1;32m    120\u001b[0m         \u001b[0m_cleanup\u001b[0m\u001b[0;34m(\u001b[0m\u001b[0;34m)\u001b[0m\u001b[0;34m\u001b[0m\u001b[0;34m\u001b[0m\u001b[0m\n\u001b[0;32m--> 121\u001b[0;31m         \u001b[0mself\u001b[0m\u001b[0;34m.\u001b[0m\u001b[0m_popen\u001b[0m \u001b[0;34m=\u001b[0m \u001b[0mself\u001b[0m\u001b[0;34m.\u001b[0m\u001b[0m_Popen\u001b[0m\u001b[0;34m(\u001b[0m\u001b[0mself\u001b[0m\u001b[0;34m)\u001b[0m\u001b[0;34m\u001b[0m\u001b[0;34m\u001b[0m\u001b[0m\n\u001b[0m\u001b[1;32m    122\u001b[0m         \u001b[0mself\u001b[0m\u001b[0;34m.\u001b[0m\u001b[0m_sentinel\u001b[0m \u001b[0;34m=\u001b[0m \u001b[0mself\u001b[0m\u001b[0;34m.\u001b[0m\u001b[0m_popen\u001b[0m\u001b[0;34m.\u001b[0m\u001b[0msentinel\u001b[0m\u001b[0;34m\u001b[0m\u001b[0;34m\u001b[0m\u001b[0m\n\u001b[1;32m    123\u001b[0m         \u001b[0;31m# Avoid a refcycle if the target function holds an indirect\u001b[0m\u001b[0;34m\u001b[0m\u001b[0;34m\u001b[0m\u001b[0;34m\u001b[0m\u001b[0m\n",
      "\u001b[0;32m~/miniconda3/envs/pymc3/lib/python3.8/multiprocessing/context.py\u001b[0m in \u001b[0;36m_Popen\u001b[0;34m(process_obj)\u001b[0m\n\u001b[1;32m    222\u001b[0m     \u001b[0;34m@\u001b[0m\u001b[0mstaticmethod\u001b[0m\u001b[0;34m\u001b[0m\u001b[0;34m\u001b[0m\u001b[0m\n\u001b[1;32m    223\u001b[0m     \u001b[0;32mdef\u001b[0m \u001b[0m_Popen\u001b[0m\u001b[0;34m(\u001b[0m\u001b[0mprocess_obj\u001b[0m\u001b[0;34m)\u001b[0m\u001b[0;34m:\u001b[0m\u001b[0;34m\u001b[0m\u001b[0;34m\u001b[0m\u001b[0m\n\u001b[0;32m--> 224\u001b[0;31m         \u001b[0;32mreturn\u001b[0m \u001b[0m_default_context\u001b[0m\u001b[0;34m.\u001b[0m\u001b[0mget_context\u001b[0m\u001b[0;34m(\u001b[0m\u001b[0;34m)\u001b[0m\u001b[0;34m.\u001b[0m\u001b[0mProcess\u001b[0m\u001b[0;34m.\u001b[0m\u001b[0m_Popen\u001b[0m\u001b[0;34m(\u001b[0m\u001b[0mprocess_obj\u001b[0m\u001b[0;34m)\u001b[0m\u001b[0;34m\u001b[0m\u001b[0;34m\u001b[0m\u001b[0m\n\u001b[0m\u001b[1;32m    225\u001b[0m \u001b[0;34m\u001b[0m\u001b[0m\n\u001b[1;32m    226\u001b[0m \u001b[0;32mclass\u001b[0m \u001b[0mDefaultContext\u001b[0m\u001b[0;34m(\u001b[0m\u001b[0mBaseContext\u001b[0m\u001b[0;34m)\u001b[0m\u001b[0;34m:\u001b[0m\u001b[0;34m\u001b[0m\u001b[0;34m\u001b[0m\u001b[0m\n",
      "\u001b[0;32m~/miniconda3/envs/pymc3/lib/python3.8/multiprocessing/context.py\u001b[0m in \u001b[0;36m_Popen\u001b[0;34m(process_obj)\u001b[0m\n\u001b[1;32m    282\u001b[0m         \u001b[0;32mdef\u001b[0m \u001b[0m_Popen\u001b[0m\u001b[0;34m(\u001b[0m\u001b[0mprocess_obj\u001b[0m\u001b[0;34m)\u001b[0m\u001b[0;34m:\u001b[0m\u001b[0;34m\u001b[0m\u001b[0;34m\u001b[0m\u001b[0m\n\u001b[1;32m    283\u001b[0m             \u001b[0;32mfrom\u001b[0m \u001b[0;34m.\u001b[0m\u001b[0mpopen_spawn_posix\u001b[0m \u001b[0;32mimport\u001b[0m \u001b[0mPopen\u001b[0m\u001b[0;34m\u001b[0m\u001b[0;34m\u001b[0m\u001b[0m\n\u001b[0;32m--> 284\u001b[0;31m             \u001b[0;32mreturn\u001b[0m \u001b[0mPopen\u001b[0m\u001b[0;34m(\u001b[0m\u001b[0mprocess_obj\u001b[0m\u001b[0;34m)\u001b[0m\u001b[0;34m\u001b[0m\u001b[0;34m\u001b[0m\u001b[0m\n\u001b[0m\u001b[1;32m    285\u001b[0m \u001b[0;34m\u001b[0m\u001b[0m\n\u001b[1;32m    286\u001b[0m     \u001b[0;32mclass\u001b[0m \u001b[0mForkServerProcess\u001b[0m\u001b[0;34m(\u001b[0m\u001b[0mprocess\u001b[0m\u001b[0;34m.\u001b[0m\u001b[0mBaseProcess\u001b[0m\u001b[0;34m)\u001b[0m\u001b[0;34m:\u001b[0m\u001b[0;34m\u001b[0m\u001b[0;34m\u001b[0m\u001b[0m\n",
      "\u001b[0;32m~/miniconda3/envs/pymc3/lib/python3.8/multiprocessing/popen_spawn_posix.py\u001b[0m in \u001b[0;36m__init__\u001b[0;34m(self, process_obj)\u001b[0m\n\u001b[1;32m     30\u001b[0m     \u001b[0;32mdef\u001b[0m \u001b[0m__init__\u001b[0m\u001b[0;34m(\u001b[0m\u001b[0mself\u001b[0m\u001b[0;34m,\u001b[0m \u001b[0mprocess_obj\u001b[0m\u001b[0;34m)\u001b[0m\u001b[0;34m:\u001b[0m\u001b[0;34m\u001b[0m\u001b[0;34m\u001b[0m\u001b[0m\n\u001b[1;32m     31\u001b[0m         \u001b[0mself\u001b[0m\u001b[0;34m.\u001b[0m\u001b[0m_fds\u001b[0m \u001b[0;34m=\u001b[0m \u001b[0;34m[\u001b[0m\u001b[0;34m]\u001b[0m\u001b[0;34m\u001b[0m\u001b[0;34m\u001b[0m\u001b[0m\n\u001b[0;32m---> 32\u001b[0;31m         \u001b[0msuper\u001b[0m\u001b[0;34m(\u001b[0m\u001b[0;34m)\u001b[0m\u001b[0;34m.\u001b[0m\u001b[0m__init__\u001b[0m\u001b[0;34m(\u001b[0m\u001b[0mprocess_obj\u001b[0m\u001b[0;34m)\u001b[0m\u001b[0;34m\u001b[0m\u001b[0;34m\u001b[0m\u001b[0m\n\u001b[0m\u001b[1;32m     33\u001b[0m \u001b[0;34m\u001b[0m\u001b[0m\n\u001b[1;32m     34\u001b[0m     \u001b[0;32mdef\u001b[0m \u001b[0mduplicate_for_child\u001b[0m\u001b[0;34m(\u001b[0m\u001b[0mself\u001b[0m\u001b[0;34m,\u001b[0m \u001b[0mfd\u001b[0m\u001b[0;34m)\u001b[0m\u001b[0;34m:\u001b[0m\u001b[0;34m\u001b[0m\u001b[0;34m\u001b[0m\u001b[0m\n",
      "\u001b[0;32m~/miniconda3/envs/pymc3/lib/python3.8/multiprocessing/popen_fork.py\u001b[0m in \u001b[0;36m__init__\u001b[0;34m(self, process_obj)\u001b[0m\n\u001b[1;32m     17\u001b[0m         \u001b[0mself\u001b[0m\u001b[0;34m.\u001b[0m\u001b[0mreturncode\u001b[0m \u001b[0;34m=\u001b[0m \u001b[0;32mNone\u001b[0m\u001b[0;34m\u001b[0m\u001b[0;34m\u001b[0m\u001b[0m\n\u001b[1;32m     18\u001b[0m         \u001b[0mself\u001b[0m\u001b[0;34m.\u001b[0m\u001b[0mfinalizer\u001b[0m \u001b[0;34m=\u001b[0m \u001b[0;32mNone\u001b[0m\u001b[0;34m\u001b[0m\u001b[0;34m\u001b[0m\u001b[0m\n\u001b[0;32m---> 19\u001b[0;31m         \u001b[0mself\u001b[0m\u001b[0;34m.\u001b[0m\u001b[0m_launch\u001b[0m\u001b[0;34m(\u001b[0m\u001b[0mprocess_obj\u001b[0m\u001b[0;34m)\u001b[0m\u001b[0;34m\u001b[0m\u001b[0;34m\u001b[0m\u001b[0m\n\u001b[0m\u001b[1;32m     20\u001b[0m \u001b[0;34m\u001b[0m\u001b[0m\n\u001b[1;32m     21\u001b[0m     \u001b[0;32mdef\u001b[0m \u001b[0mduplicate_for_child\u001b[0m\u001b[0;34m(\u001b[0m\u001b[0mself\u001b[0m\u001b[0;34m,\u001b[0m \u001b[0mfd\u001b[0m\u001b[0;34m)\u001b[0m\u001b[0;34m:\u001b[0m\u001b[0;34m\u001b[0m\u001b[0;34m\u001b[0m\u001b[0m\n",
      "\u001b[0;32m~/miniconda3/envs/pymc3/lib/python3.8/multiprocessing/popen_spawn_posix.py\u001b[0m in \u001b[0;36m_launch\u001b[0;34m(self, process_obj)\u001b[0m\n\u001b[1;32m     60\u001b[0m             \u001b[0mself\u001b[0m\u001b[0;34m.\u001b[0m\u001b[0msentinel\u001b[0m \u001b[0;34m=\u001b[0m \u001b[0mparent_r\u001b[0m\u001b[0;34m\u001b[0m\u001b[0;34m\u001b[0m\u001b[0m\n\u001b[1;32m     61\u001b[0m             \u001b[0;32mwith\u001b[0m \u001b[0mopen\u001b[0m\u001b[0;34m(\u001b[0m\u001b[0mparent_w\u001b[0m\u001b[0;34m,\u001b[0m \u001b[0;34m'wb'\u001b[0m\u001b[0;34m,\u001b[0m \u001b[0mclosefd\u001b[0m\u001b[0;34m=\u001b[0m\u001b[0;32mFalse\u001b[0m\u001b[0;34m)\u001b[0m \u001b[0;32mas\u001b[0m \u001b[0mf\u001b[0m\u001b[0;34m:\u001b[0m\u001b[0;34m\u001b[0m\u001b[0;34m\u001b[0m\u001b[0m\n\u001b[0;32m---> 62\u001b[0;31m                 \u001b[0mf\u001b[0m\u001b[0;34m.\u001b[0m\u001b[0mwrite\u001b[0m\u001b[0;34m(\u001b[0m\u001b[0mfp\u001b[0m\u001b[0;34m.\u001b[0m\u001b[0mgetbuffer\u001b[0m\u001b[0;34m(\u001b[0m\u001b[0;34m)\u001b[0m\u001b[0;34m)\u001b[0m\u001b[0;34m\u001b[0m\u001b[0;34m\u001b[0m\u001b[0m\n\u001b[0m\u001b[1;32m     63\u001b[0m         \u001b[0;32mfinally\u001b[0m\u001b[0;34m:\u001b[0m\u001b[0;34m\u001b[0m\u001b[0;34m\u001b[0m\u001b[0m\n\u001b[1;32m     64\u001b[0m             \u001b[0mfds_to_close\u001b[0m \u001b[0;34m=\u001b[0m \u001b[0;34m[\u001b[0m\u001b[0;34m]\u001b[0m\u001b[0;34m\u001b[0m\u001b[0;34m\u001b[0m\u001b[0m\n",
      "\u001b[0;31mKeyboardInterrupt\u001b[0m: "
     ]
    }
   ],
   "source": [
    "# We generate 5 datasets\n",
    "true_mu = [np.random.randn() for _ in range(5)]\n",
    "observed_data = [mu + np.random.randn(20) for mu in true_mu]\n",
    "\n",
    "with pm.Model() as model:\n",
    "    data = pm.Data(\"data\", observed_data[0])\n",
    "    mu = pm.Normal(\"mu\", 0, 10)\n",
    "    _ = pm.Normal(\"y\", mu=mu, sigma=1, observed=data)\n",
    "\n",
    "# Generate one trace for each dataset\n",
    "traces = []\n",
    "for data_vals in observed_data:\n",
    "    with model:\n",
    "        # Switch out the observed dataset\n",
    "        pm.set_data({\"data\": data_vals})\n",
    "        traces.append(pm.sample(return_inferencedata=False))"
   ]
  },
  {
   "cell_type": "markdown",
   "metadata": {},
   "source": [
    "# Using Data container variables to predict on new data"
   ]
  },
  {
   "cell_type": "markdown",
   "metadata": {},
   "source": [
    "We can also use the `Data` class to predict on new data. A common challenge in PyMC3 is applying machine learning workflows. "
   ]
  },
  {
   "cell_type": "code",
   "execution_count": 28,
   "metadata": {},
   "outputs": [
    {
     "name": "stderr",
     "output_type": "stream",
     "text": [
      "Auto-assigning NUTS sampler...\n",
      "Initializing NUTS using jitter+adapt_diag...\n",
      "Multiprocess sampling (2 chains in 2 jobs)\n",
      "NUTS: [x]\n"
     ]
    },
    {
     "data": {
      "text/html": [
       "\n",
       "    <div>\n",
       "        <style>\n",
       "            /* Turns off some styling */\n",
       "            progress {\n",
       "                /* gets rid of default border in Firefox and Opera. */\n",
       "                border: none;\n",
       "                /* Needs to be in here for Safari polyfill so background images work as expected. */\n",
       "                background-size: auto;\n",
       "            }\n",
       "            .progress-bar-interrupted, .progress-bar-interrupted::-webkit-progress-bar {\n",
       "                background: #F44336;\n",
       "            }\n",
       "        </style>\n",
       "      <progress value='4000' class='' max='4000' style='width:300px; height:20px; vertical-align: middle;'></progress>\n",
       "      100.00% [4000/4000 00:13<00:00 Sampling 2 chains, 0 divergences]\n",
       "    </div>\n",
       "    "
      ],
      "text/plain": [
       "<IPython.core.display.HTML object>"
      ]
     },
     "metadata": {},
     "output_type": "display_data"
    },
    {
     "name": "stderr",
     "output_type": "stream",
     "text": [
      "Sampling 2 chains for 1_000 tune and 1_000 draw iterations (2_000 + 2_000 draws total) took 23 seconds.\n"
     ]
    }
   ],
   "source": [
    "x = np.random.randn(100)\n",
    "y = x > 0\n",
    "\n",
    "with pm.Model() as model:\n",
    "    x_shared = pm.Data(\"x_shared\", x)\n",
    "    coeff = pm.Normal(\"x\", mu=0, sigma=1)\n",
    "\n",
    "    logistic = pm.math.sigmoid(coeff * x_shared)\n",
    "    _ = pm.Bernoulli(\"obs\", p=logistic, observed=y)\n",
    "\n",
    "    # fit the model\n",
    "    trace = pm.sample(return_inferencedata=False)"
   ]
  },
  {
   "cell_type": "code",
   "execution_count": 31,
   "metadata": {},
   "outputs": [
    {
     "data": {
      "text/html": [
       "\n",
       "    <div>\n",
       "        <style>\n",
       "            /* Turns off some styling */\n",
       "            progress {\n",
       "                /* gets rid of default border in Firefox and Opera. */\n",
       "                border: none;\n",
       "                /* Needs to be in here for Safari polyfill so background images work as expected. */\n",
       "                background-size: auto;\n",
       "            }\n",
       "            .progress-bar-interrupted, .progress-bar-interrupted::-webkit-progress-bar {\n",
       "                background: #F44336;\n",
       "            }\n",
       "        </style>\n",
       "      <progress value='500' class='' max='500' style='width:300px; height:20px; vertical-align: middle;'></progress>\n",
       "      100.00% [500/500 00:01<00:00]\n",
       "    </div>\n",
       "    "
      ],
      "text/plain": [
       "<IPython.core.display.HTML object>"
      ]
     },
     "metadata": {},
     "output_type": "display_data"
    }
   ],
   "source": [
    "new_values = [0, -1, 1.0]\n",
    "with model:\n",
    "    # Switch out the observations and use `sample_posterior_predictive` to predict\n",
    "    pm.set_data({\"x_shared\": new_values})\n",
    "    post_pred = pm.sample_posterior_predictive(trace, samples=500)"
   ]
  },
  {
   "cell_type": "code",
   "execution_count": 32,
   "metadata": {},
   "outputs": [
    {
     "data": {
      "text/plain": [
       "{'obs': array([[1, 0, 1],\n",
       "        [0, 0, 1],\n",
       "        [1, 0, 1],\n",
       "        ...,\n",
       "        [0, 0, 1],\n",
       "        [0, 0, 0],\n",
       "        [0, 0, 1]])}"
      ]
     },
     "execution_count": 32,
     "metadata": {},
     "output_type": "execute_result"
    }
   ],
   "source": [
    "post_pred"
   ]
  },
  {
   "cell_type": "code",
   "execution_count": null,
   "metadata": {},
   "outputs": [],
   "source": []
  }
 ],
 "metadata": {
  "kernelspec": {
   "display_name": "Python [conda env:pymc3] *",
   "language": "python",
   "name": "conda-env-pymc3-py"
  },
  "language_info": {
   "codemirror_mode": {
    "name": "ipython",
    "version": 3
   },
   "file_extension": ".py",
   "mimetype": "text/x-python",
   "name": "python",
   "nbconvert_exporter": "python",
   "pygments_lexer": "ipython3",
   "version": "3.8.5"
  }
 },
 "nbformat": 4,
 "nbformat_minor": 4
}
